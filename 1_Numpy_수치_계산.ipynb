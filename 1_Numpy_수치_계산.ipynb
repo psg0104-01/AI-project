{
  "nbformat": 4,
  "nbformat_minor": 0,
  "metadata": {
    "colab": {
      "provenance": [],
      "authorship_tag": "ABX9TyOBmN6Fc4Nxg40w03nxUvT7",
      "include_colab_link": true
    },
    "kernelspec": {
      "name": "python3",
      "display_name": "Python 3"
    },
    "language_info": {
      "name": "python"
    }
  },
  "cells": [
    {
      "cell_type": "markdown",
      "metadata": {
        "id": "view-in-github",
        "colab_type": "text"
      },
      "source": [
        "<a href=\"https://colab.research.google.com/github/psg0104-01/AI-project/blob/main/1_Numpy_%EC%88%98%EC%B9%98_%EA%B3%84%EC%82%B0.ipynb\" target=\"_parent\"><img src=\"https://colab.research.google.com/assets/colab-badge.svg\" alt=\"Open In Colab\"/></a>"
      ]
    },
    {
      "cell_type": "code",
      "execution_count": null,
      "metadata": {
        "id": "rQsiXFRadgLK"
      },
      "outputs": [],
      "source": [
        "'''\n",
        "✅ NumPy의 핵심 기능\n",
        "기능\t설명\n",
        "다차원 배열(ndarray)\t일반 리스트보다 훨씬 빠르고 효율적인 배열 구조를 제공함\n",
        "벡터화 연산\tfor문 없이 배열 간 덧셈, 뺄셈, 곱셈 등을 빠르게 수행\n",
        "브로드캐스팅(Broadcasting)\t배열의 크기가 달라도 자동으로 계산을 맞춰줌\n",
        "과학/수학 함수 내장\t평균, 합계, 표준편차, 최대/최소값 등 다양한 함수 포함\n",
        "배열 생성 함수\tzeros, ones, arange, linspace 등 편리하게 배열 생성\n",
        "선형대수 기능\t행렬 곱, 역행렬, 전치, 고유값 등 수학적 계산 가능\n",
        "파일 입출력\t텍스트나 바이너리 형식의 배열 저장 및 불러오기 지원\n",
        "\n",
        "⭐ NumPy의 주요 장점\n",
        "장점\t설명\n",
        "빠른 연산 속도\t내부적으로 C언어로 구현되어 파이썬 기본 리스트보다 훨씬 빠름\n",
        "코드 간결성\t반복문 없이 간단하게 배열 계산 가능 (코드가 짧고 읽기 쉬움)\n",
        "메모리 절약\t데이터 타입이 고정되어 있고, 리스트보다 메모리 사용량이 적음\n",
        "다양한 수학 기능 지원\t과학, 공학, AI, 통계 분야에 필요한 기능 대부분 포함\n",
        "확장성\tpandas, matplotlib, tensorflow 등 다른 유명 라이브러리와 잘 통합됨\n",
        "\n",
        "'''"
      ]
    },
    {
      "cell_type": "code",
      "source": [
        "import numpy as np"
      ],
      "metadata": {
        "id": "EGTZpYrtdlp3"
      },
      "execution_count": null,
      "outputs": []
    }
  ]
}