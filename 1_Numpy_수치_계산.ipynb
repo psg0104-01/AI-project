{
  "nbformat": 4,
  "nbformat_minor": 0,
  "metadata": {
    "colab": {
      "provenance": [],
      "toc_visible": true,
      "authorship_tag": "ABX9TyP0xgK6CDIXAj5xrQ+vUWYl",
      "include_colab_link": true
    },
    "kernelspec": {
      "name": "python3",
      "display_name": "Python 3"
    },
    "language_info": {
      "name": "python"
    }
  },
  "cells": [
    {
      "cell_type": "markdown",
      "metadata": {
        "id": "view-in-github",
        "colab_type": "text"
      },
      "source": [
        "<a href=\"https://colab.research.google.com/github/psg0104-01/AI-project/blob/main/1_Numpy_%EC%88%98%EC%B9%98_%EA%B3%84%EC%82%B0.ipynb\" target=\"_parent\"><img src=\"https://colab.research.google.com/assets/colab-badge.svg\" alt=\"Open In Colab\"/></a>"
      ]
    },
    {
      "cell_type": "code",
      "source": [
        "'''\n",
        "✅ NumPy의 핵심 기능\n",
        "기능\t설명\n",
        "다차원 배열(ndarray)\t일반 리스트보다 훨씬 빠르고 효율적인 배열 구조를 제공함\n",
        "벡터화 연산\tfor문 없이 배열 간 덧셈, 뺄셈, 곱셈 등을 빠르게 수행\n",
        "브로드캐스팅(Broadcasting)\t배열의 크기가 달라도 자동으로 계산을 맞춰줌\n",
        "과학/수학 함수 내장\t평균, 합계, 표준편차, 최대/최소값 등 다양한 함수 포함\n",
        "배열 생성 함수\tzeros, ones, arange, linspace 등 편리하게 배열 생성\n",
        "선형대수 기능\t행렬 곱, 역행렬, 전치, 고유값 등 수학적 계산 가능\n",
        "파일 입출력\t텍스트나 바이너리 형식의 배열 저장 및 불러오기 지원\n",
        "\n",
        "⭐ NumPy의 주요 장점\n",
        "장점\t설명\n",
        "빠른 연산 속도\t내부적으로 C언어로 구현되어 파이썬 기본 리스트보다 훨씬 빠름\n",
        "코드 간결성\t반복문 없이 간단하게 배열 계산 가능 (코드가 짧고 읽기 쉬움)\n",
        "메모리 절약\t데이터 타입이 고정되어 있고, 리스트보다 메모리 사용량이 적음\n",
        "다양한 수학 기능 지원\t과학, 공학, AI, 통계 분야에 필요한 기능 대부분 포함\n",
        "확장성\tpandas, matplotlib, tensorflow 등 다른 유명 라이브러리와 잘 통합됨\n",
        "\n",
        "'''"
      ],
      "metadata": {
        "colab": {
          "base_uri": "https://localhost:8080/",
          "height": 109
        },
        "id": "L3pmQQQbbYO4",
        "outputId": "40a495f8-28f7-4b88-8132-f479839197c6"
      },
      "execution_count": 2,
      "outputs": [
        {
          "output_type": "execute_result",
          "data": {
            "text/plain": [
              "'\\n✅ NumPy의 핵심 기능\\n기능\\t설명\\n다차원 배열(ndarray)\\t일반 리스트보다 훨씬 빠르고 효율적인 배열 구조를 제공함\\n벡터화 연산\\tfor문 없이 배열 간 덧셈, 뺄셈, 곱셈 등을 빠르게 수행\\n브로드캐스팅(Broadcasting)\\t배열의 크기가 달라도 자동으로 계산을 맞춰줌\\n과학/수학 함수 내장\\t평균, 합계, 표준편차, 최대/최소값 등 다양한 함수 포함\\n배열 생성 함수\\tzeros, ones, arange, linspace 등 편리하게 배열 생성\\n선형대수 기능\\t행렬 곱, 역행렬, 전치, 고유값 등 수학적 계산 가능\\n파일 입출력\\t텍스트나 바이너리 형식의 배열 저장 및 불러오기 지원\\n\\n⭐ NumPy의 주요 장점\\n장점\\t설명\\n빠른 연산 속도\\t내부적으로 C언어로 구현되어 파이썬 기본 리스트보다 훨씬 빠름\\n코드 간결성\\t반복문 없이 간단하게 배열 계산 가능 (코드가 짧고 읽기 쉬움)\\n메모리 절약\\t데이터 타입이 고정되어 있고, 리스트보다 메모리 사용량이 적음\\n다양한 수학 기능 지원\\t과학, 공학, AI, 통계 분야에 필요한 기능 대부분 포함\\n확장성\\tpandas, matplotlib, tensorflow 등 다른 유명 라이브러리와 잘 통합됨\\n\\n'"
            ],
            "application/vnd.google.colaboratory.intrinsic+json": {
              "type": "string"
            }
          },
          "metadata": {},
          "execution_count": 2
        }
      ]
    },
    {
      "cell_type": "code",
      "source": [
        "import numpy as np\n",
        "\n",
        "\n",
        "'''\n",
        "Numpy  배열 (array) - 숙제 : 배열과 list차이에 대해서 입력하기\n",
        "\n",
        "'''"
      ],
      "metadata": {
        "colab": {
          "base_uri": "https://localhost:8080/",
          "height": 35
        },
        "id": "fOKF5yLAbiO3",
        "outputId": "fa84cf35-57ee-4599-98c6-3c5c90b008ba"
      },
      "execution_count": 18,
      "outputs": [
        {
          "output_type": "execute_result",
          "data": {
            "text/plain": [
              "'\\nNumpy  배열 (array) - 숙제 : 배열과 list차이에 대해서 입력하기\\n\\n'"
            ],
            "application/vnd.google.colaboratory.intrinsic+json": {
              "type": "string"
            }
          },
          "metadata": {},
          "execution_count": 18
        }
      ]
    },
    {
      "cell_type": "code",
      "source": [
        "#list는 수치해석에 불편하다\n",
        "a = [1,3,5]\n",
        "b = [2,4,6]\n",
        "print(a[0]+ b[0])\n",
        "print(a[1]+ b[1])\n",
        "print(a[2]+ b[2])\n",
        "print(a+b) # +연산:결합만 해준다\n",
        "#print(a*b)\n",
        "\n",
        "#for문을 쓰면 계산은 가능하다\n",
        "res = [0,0,0]\n",
        "for i in range(len(a)):\n",
        "  res[i] = a[i] + b[i]\n",
        "print('range(len(a)):',res)\n",
        "\n",
        "res2 = []\n",
        "for i in range(len(a)):\n",
        "  res2.append(a[i]+b[i])\n",
        "print('append:',res2)\n",
        "\n",
        "res3 = []\n",
        "for x,y in zip(a,b):  # zip(a,b) 쌍으로 묶어서 x,y에 넘겨준다.\n",
        "  res3.append(x+y)\n",
        "print('zip:', res3)\n",
        "\n",
        "#이래서 Numpy가 필요하다!!!!\n",
        "import numpy as np\n",
        "a = np.array([1,3,5])\n",
        "b = np.array([2,4,6])\n",
        "print(a+b)\n",
        "print(a*b)\n",
        "print(a/b)\n",
        "\n",
        "data = np.array([10,20,30])\n",
        "print(data +5)\n",
        "print(np.mean(data))"
      ],
      "metadata": {
        "colab": {
          "base_uri": "https://localhost:8080/"
        },
        "id": "RVH42iOve-pm",
        "outputId": "d4876ffa-d9e9-4920-c08a-020546ac918e"
      },
      "execution_count": 10,
      "outputs": [
        {
          "output_type": "stream",
          "name": "stdout",
          "text": [
            "3\n",
            "7\n",
            "11\n",
            "[1, 3, 5, 2, 4, 6]\n",
            "range(len(a)): [3, 7, 11]\n",
            "append: [3, 7, 11]\n",
            "zip: [3, 7, 11]\n",
            "[ 3  7 11]\n",
            "[ 2 12 30]\n",
            "[0.5        0.75       0.83333333]\n",
            "[15 25 35]\n",
            "20.0\n"
          ]
        }
      ]
    },
    {
      "cell_type": "code",
      "source": [
        "#Numpy 배열의 차원(n-차원,shape)\n",
        "\n",
        "#0 - 차원 array(스칼라, Scalar)\n",
        "\n",
        "\n",
        "arr = np.array(100)\n",
        "print(arr)\n",
        "print(np.shape(arr)) #() 튜플로 반환 빈튜플로 반환(0차원)\n",
        "print(np.ndim(arr))\n",
        "\n",
        "print(\"___________________________1차원__________________________________\")\n",
        "\n",
        "#1-차원 array(백터, Vector)\n",
        "#1차원 배열을 백터 라고 하며, 일렬로 저장, 가장 많이 사용한다.\n",
        "\n",
        "arr1 = np.array([2,4,6,8,10])\n",
        "print('Data type:',type(arr1))\n",
        "print(arr,np.shape(arr1)) #(5, )\n",
        "print(np.ndim(arr1)) #ndim: nth - dimension\n",
        "\n",
        "print(\"----1차원 초기화 지정----\")\n",
        "\n",
        "#1차원배열 생성하면서 초기값 지정할수 있다\n",
        "print(np.zeros(5)) #0.0으로 채워진 5개 요소의 1차원 배열\n",
        "print(np.ones(5))\n",
        "print(np.empty(5)) #현재 메모리에 남아 있는 \"쓰레기값(Garbage)\"을 그대로 사용\n",
        "print(np.full(5,99))\n",
        "print(np.arange(5)) #arange: array - range\n",
        "print(np.arange(1,11,2))\n",
        "print(np.random.random(15)) #0~1사이\n",
        "print(np.linspace(0,100, num = 33)) #linear - space, 균일한 간격\n",
        "print(arr1*10) #벡터화 연산(1차원 배열을 한꺼번에 계산한다.)\n",
        "\n",
        "print(\"___________________________2차원__________________________________\")\n",
        "\n",
        "#2-차원 배열(행렬, matrix): 엑셀(행:row, 열:column)\n",
        "arr2d = np.array([[2,4,6], [1,3,5]]) # 2행 3열 2차원 배열\n",
        "print(arr2d)\n",
        "print(np.shape(arr2d))\n",
        "print(np.ndim(arr2d))\n",
        "print(len(arr2d)) #행의 개수\n",
        "print(len(arr2d[0])) #열의 개수\n",
        "print(arr2d.size) #모든 요소의 개수\n",
        "\n",
        "# 0부터 시작하는 정수 6개를 생성(arange)함수 2행 3열로 2차원 배열로 변환\n",
        "np.arange(6).reshape(2,3)\n",
        "\n",
        "print(\"----2차원 초기화 지정----\")\n",
        "\n",
        "#2차원도 초기화 지정 가능\n",
        "print(np.zeros((2,3)))\n",
        "print(np.ones((2,3)))\n",
        "print(np.empty((2,3)))\n",
        "print(np.full((2,3),99))\n",
        "print(np.arange(6).reshape(2,3)) # 0~5까지의 6개의 정수를 2해 3열로 재배열\n",
        "print(np.arange(1,13,2).reshape(2,3))\n",
        "print(np.random.random((2,3))) # 2행 3열의 난수를 0~1미만 범위로 랜덤 생성\n",
        "print(np.linspace(0,100, num = 6).reshape(2,3)) #linear-space, 균일한 간격, 2행 3열에 넣어준다\n",
        "print('reshape -1 option:',np.linspace(0,100, num =33).reshape(-1,3)) # -1 option 자동으로 맞춰준다\n",
        "\n",
        "print(\"___________________________3차원__________________________________\")\n",
        "# 3-차원 배열(텐서, Tensor)\n",
        "# 3차원은 깊이(depth), 행(row), 열(column)로 구성, AI에서 주로 사용되는 Tensor의 기본구조\n",
        "#머신러닝/딥러닝 등 에서 사용\n",
        "\n",
        "arr3d = np.array([[[1, 2, 3], [4, 5, 6]],[[7, 8, 9], [10, 11, 12]]])\n",
        "print(arr3d)\n",
        "print(np.shape(arr3d),np.ndim(arr3d))  # (2,2,3) --> (depth,row,colum)\n",
        "\n",
        "print(len(arr3d))\n",
        "print(len(arr3d[0]))\n",
        "print(len(arr3d[0][0]))\n",
        "print(arr3d.size)\n"
      ],
      "metadata": {
        "colab": {
          "base_uri": "https://localhost:8080/"
        },
        "id": "bwfqg3n7fA7W",
        "outputId": "901f4d9e-c271-49ac-f4b6-aba08b3ee176"
      },
      "execution_count": 158,
      "outputs": [
        {
          "output_type": "stream",
          "name": "stdout",
          "text": [
            "100\n",
            "()\n",
            "0\n",
            "___________________________1차원__________________________________\n",
            "Data type: <class 'numpy.ndarray'>\n",
            "100 (5,)\n",
            "1\n",
            "----1차원 초기화 지정----\n",
            "[0. 0. 0. 0. 0.]\n",
            "[1. 1. 1. 1. 1.]\n",
            "[1. 1. 1. 1. 1.]\n",
            "[99 99 99 99 99]\n",
            "[0 1 2 3 4]\n",
            "[1 3 5 7 9]\n",
            "[0.71669741 0.92942958 0.23340614 0.99642425 0.78049519 0.20669022\n",
            " 0.35163381 0.7692929  0.93057749 0.23843693 0.96426843 0.98053121\n",
            " 0.53945165 0.29614647 0.33525286]\n",
            "[  0.      3.125   6.25    9.375  12.5    15.625  18.75   21.875  25.\n",
            "  28.125  31.25   34.375  37.5    40.625  43.75   46.875  50.     53.125\n",
            "  56.25   59.375  62.5    65.625  68.75   71.875  75.     78.125  81.25\n",
            "  84.375  87.5    90.625  93.75   96.875 100.   ]\n",
            "[ 20  40  60  80 100]\n",
            "___________________________2차원__________________________________\n",
            "[[2 4 6]\n",
            " [1 3 5]]\n",
            "(2, 3)\n",
            "2\n",
            "2\n",
            "3\n",
            "6\n",
            "----2차원 초기화 지정----\n",
            "[[0. 0. 0.]\n",
            " [0. 0. 0.]]\n",
            "[[1. 1. 1.]\n",
            " [1. 1. 1.]]\n",
            "[[1. 1. 1.]\n",
            " [1. 1. 1.]]\n",
            "[[99 99 99]\n",
            " [99 99 99]]\n",
            "[[0 1 2]\n",
            " [3 4 5]]\n",
            "[[ 1  3  5]\n",
            " [ 7  9 11]]\n",
            "[[0.19603452 0.37791842 0.40994969]\n",
            " [0.17566386 0.06271314 0.73554342]]\n",
            "[[  0.  20.  40.]\n",
            " [ 60.  80. 100.]]\n",
            "reshape -1 option: [[  0.      3.125   6.25 ]\n",
            " [  9.375  12.5    15.625]\n",
            " [ 18.75   21.875  25.   ]\n",
            " [ 28.125  31.25   34.375]\n",
            " [ 37.5    40.625  43.75 ]\n",
            " [ 46.875  50.     53.125]\n",
            " [ 56.25   59.375  62.5  ]\n",
            " [ 65.625  68.75   71.875]\n",
            " [ 75.     78.125  81.25 ]\n",
            " [ 84.375  87.5    90.625]\n",
            " [ 93.75   96.875 100.   ]]\n",
            "___________________________3차원__________________________________\n",
            "[[[ 1  2  3]\n",
            "  [ 4  5  6]]\n",
            "\n",
            " [[ 7  8  9]\n",
            "  [10 11 12]]]\n",
            "(2, 2, 3) 3\n",
            "2\n",
            "2\n",
            "3\n",
            "12\n"
          ]
        }
      ]
    },
    {
      "cell_type": "code",
      "source": [
        "#Array함수: flatten(): 배열을 1차원으로 펼치기\n",
        "#flatten()은 다차원 배열을  1차원 벡터로 평탄화 하는 속성\n",
        "#원본 배열은 그대로이고, 배열을 생성\n",
        "\n",
        "arrflat = np.array([[1,2,3],[4,5,6]])\n",
        "result = arrflat.flatten()\n",
        "print(result)\n",
        "\n",
        "#transpose(): 전치: 행 <->열 교환\n",
        "#transpose()는 2차원 이상의 배열에서 행과 열을 바꿔주는 속성\n",
        "#선형대수나 이미지 처리등에서 자주사용한다.\n",
        "arrtrans = np.array([[1,2,3],[4,5,6]])\n",
        "result = arrtrans.transpose()\n",
        "print(result)"
      ],
      "metadata": {
        "colab": {
          "base_uri": "https://localhost:8080/"
        },
        "id": "xz9rULvYm9zC",
        "outputId": "df574bf0-843a-4c54-dc5d-8ae0de840e15"
      },
      "execution_count": 160,
      "outputs": [
        {
          "output_type": "stream",
          "name": "stdout",
          "text": [
            "[1 2 3 4 5 6]\n",
            "[[1 4]\n",
            " [2 5]\n",
            " [3 6]]\n"
          ]
        }
      ]
    }
  ]
}